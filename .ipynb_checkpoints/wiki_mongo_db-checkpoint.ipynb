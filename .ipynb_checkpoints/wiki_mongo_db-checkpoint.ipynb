{
 "cells": [
  {
   "cell_type": "code",
   "execution_count": 1,
   "metadata": {},
   "outputs": [
    {
     "name": "stdout",
     "output_type": "stream",
     "text": [
      "\n",
      "\n",
      "# All requested packages already installed.\n",
      "# packages in environment at /opt/conda:\n",
      "#\n",
      "pymongo                   3.4.0                    py36_0    defaults\n"
     ]
    }
   ],
   "source": [
    "!conda install --yes --quiet pymongo"
   ]
  },
  {
   "cell_type": "code",
   "execution_count": 5,
   "metadata": {},
   "outputs": [],
   "source": [
    "import pymongo\n",
    "from sklearn.externals import joblib"
   ]
  },
  {
   "cell_type": "code",
   "execution_count": 6,
   "metadata": {},
   "outputs": [],
   "source": [
    "client = pymongo.MongoClient('54.214.155.118', 27016)"
   ]
  },
  {
   "cell_type": "code",
   "execution_count": 7,
   "metadata": {
    "scrolled": true
   },
   "outputs": [
    {
     "data": {
      "text/plain": [
       "['admin', 'local', 'my_database', 'test', 'wiki']"
      ]
     },
     "execution_count": 7,
     "metadata": {},
     "output_type": "execute_result"
    }
   ],
   "source": [
    "client.database_names()"
   ]
  },
  {
   "cell_type": "markdown",
   "metadata": {},
   "source": [
    "## My stuff"
   ]
  },
  {
   "cell_type": "code",
   "execution_count": 9,
   "metadata": {},
   "outputs": [],
   "source": [
    "wiki = client['wiki']"
   ]
  },
  {
   "cell_type": "code",
   "execution_count": 55,
   "metadata": {
    "scrolled": true
   },
   "outputs": [
    {
     "data": {
      "text/plain": [
       "['admin', 'local', 'my_database', 'test', 'wiki']"
      ]
     },
     "execution_count": 55,
     "metadata": {},
     "output_type": "execute_result"
    }
   ],
   "source": [
    "client.database_names()"
   ]
  },
  {
   "cell_type": "code",
   "execution_count": 61,
   "metadata": {},
   "outputs": [
    {
     "data": {
      "text/plain": [
       "Collection(Database(MongoClient(host=['54.214.155.118:27016'], document_class=dict, tz_aware=False, connect=True), 'wiki'), 'BS_new')"
      ]
     },
     "execution_count": 61,
     "metadata": {},
     "output_type": "execute_result"
    }
   ],
   "source": [
    "wiki['ML_new']\n",
    "wiki['BS_new']"
   ]
  },
  {
   "cell_type": "code",
   "execution_count": 64,
   "metadata": {
    "scrolled": true
   },
   "outputs": [
    {
     "data": {
      "text/plain": [
       "['BS', 'ML']"
      ]
     },
     "execution_count": 64,
     "metadata": {},
     "output_type": "execute_result"
    }
   ],
   "source": [
    "wiki.collection_names()"
   ]
  },
  {
   "cell_type": "code",
   "execution_count": 10,
   "metadata": {},
   "outputs": [],
   "source": [
    "ML_ref = wiki['ML_new']\n",
    "BS_ref = wiki['BS_new']"
   ]
  },
  {
   "cell_type": "code",
   "execution_count": 12,
   "metadata": {},
   "outputs": [
    {
     "data": {
      "text/plain": [
       "3017"
      ]
     },
     "execution_count": 12,
     "metadata": {},
     "output_type": "execute_result"
    }
   ],
   "source": [
    "BS_docs = list(BS_ref.find())\n",
    "len(BS_docs)"
   ]
  },
  {
   "cell_type": "code",
   "execution_count": 13,
   "metadata": {},
   "outputs": [
    {
     "data": {
      "text/plain": [
       "1108"
      ]
     },
     "execution_count": 13,
     "metadata": {},
     "output_type": "execute_result"
    }
   ],
   "source": [
    "ML_docs = list(ML_ref.find())\n",
    "len(ML_docs)"
   ]
  },
  {
   "cell_type": "code",
   "execution_count": 67,
   "metadata": {},
   "outputs": [
    {
     "data": {
      "text/plain": [
       "3017"
      ]
     },
     "execution_count": 67,
     "metadata": {},
     "output_type": "execute_result"
    }
   ],
   "source": [
    "bs_docs = joblib.load('bs_pages_info.pkl')\n",
    "len(bs_docs)"
   ]
  },
  {
   "cell_type": "code",
   "execution_count": 68,
   "metadata": {},
   "outputs": [
    {
     "data": {
      "text/plain": [
       "1108"
      ]
     },
     "execution_count": 68,
     "metadata": {},
     "output_type": "execute_result"
    }
   ],
   "source": [
    "ml_docs = joblib.load('ml_pages_info.pkl')\n",
    "len(ml_docs)"
   ]
  },
  {
   "cell_type": "code",
   "execution_count": 69,
   "metadata": {},
   "outputs": [
    {
     "data": {
      "text/plain": [
       "<pymongo.results.InsertManyResult at 0x7fd9a8a22318>"
      ]
     },
     "execution_count": 69,
     "metadata": {},
     "output_type": "execute_result"
    }
   ],
   "source": [
    "BS_ref.insert_many(bs_docs) # DON'T RUN AGAIN!"
   ]
  },
  {
   "cell_type": "code",
   "execution_count": 70,
   "metadata": {},
   "outputs": [
    {
     "data": {
      "text/plain": [
       "<pymongo.results.InsertManyResult at 0x7fd9a9490ea0>"
      ]
     },
     "execution_count": 70,
     "metadata": {},
     "output_type": "execute_result"
    }
   ],
   "source": [
    "ML_ref.insert_many(ml_docs) # DON'T RUN AGAIN!"
   ]
  },
  {
   "cell_type": "code",
   "execution_count": 71,
   "metadata": {},
   "outputs": [
    {
     "data": {
      "text/plain": [
       "0"
      ]
     },
     "execution_count": 71,
     "metadata": {},
     "output_type": "execute_result"
    }
   ],
   "source": [
    "len(BS_docs)"
   ]
  },
  {
   "cell_type": "code",
   "execution_count": 72,
   "metadata": {
    "scrolled": true
   },
   "outputs": [
    {
     "data": {
      "text/plain": [
       "0"
      ]
     },
     "execution_count": 72,
     "metadata": {},
     "output_type": "execute_result"
    }
   ],
   "source": [
    "len(ML_docs)"
   ]
  },
  {
   "cell_type": "code",
   "execution_count": 14,
   "metadata": {},
   "outputs": [],
   "source": [
    "test_df = pd.DataFrame(ML_docs[1:10], index = [x['pageid'] for x in ML_docs[1:10]]).drop(['_id', 'pageid'], axis = 1)"
   ]
  },
  {
   "cell_type": "code",
   "execution_count": 15,
   "metadata": {},
   "outputs": [
    {
     "data": {
      "text/plain": [
       "(9, 2)"
      ]
     },
     "execution_count": 15,
     "metadata": {},
     "output_type": "execute_result"
    }
   ],
   "source": [
    "test_df.shape"
   ]
  },
  {
   "cell_type": "code",
   "execution_count": 16,
   "metadata": {
    "scrolled": true
   },
   "outputs": [],
   "source": [
    "ml_df = pd.DataFrame(ML_docs, index = [x['pageid'] for x in ML_docs]).drop(['_id', 'pageid'], axis=1)"
   ]
  },
  {
   "cell_type": "code",
   "execution_count": 17,
   "metadata": {},
   "outputs": [],
   "source": [
    "ml_df['label'] = 'ML'"
   ]
  },
  {
   "cell_type": "code",
   "execution_count": 18,
   "metadata": {},
   "outputs": [
    {
     "data": {
      "text/plain": [
       "(1108, 3)"
      ]
     },
     "execution_count": 18,
     "metadata": {},
     "output_type": "execute_result"
    }
   ],
   "source": [
    "ml_df.shape"
   ]
  },
  {
   "cell_type": "code",
   "execution_count": 19,
   "metadata": {},
   "outputs": [
    {
     "data": {
      "text/html": [
       "<div>\n",
       "<table border=\"1\" class=\"dataframe\">\n",
       "  <thead>\n",
       "    <tr style=\"text-align: right;\">\n",
       "      <th></th>\n",
       "      <th>text</th>\n",
       "      <th>title</th>\n",
       "      <th>label</th>\n",
       "    </tr>\n",
       "  </thead>\n",
       "  <tbody>\n",
       "    <tr>\n",
       "      <th>28168154</th>\n",
       "      <td>Principal stratification is a statistical tech...</td>\n",
       "      <td>Principal stratification</td>\n",
       "      <td>ML</td>\n",
       "    </tr>\n",
       "    <tr>\n",
       "      <th>31877832</th>\n",
       "      <td>This article is about the binary tree variant....</td>\n",
       "      <td>Ball tree</td>\n",
       "      <td>ML</td>\n",
       "    </tr>\n",
       "    <tr>\n",
       "      <th>2139778</th>\n",
       "      <td>Ordination or gradient analysis, in multivaria...</td>\n",
       "      <td>Ordination (statistics)</td>\n",
       "      <td>ML</td>\n",
       "    </tr>\n",
       "    <tr>\n",
       "      <th>3119343</th>\n",
       "      <td>In computational learning theory, sample exclu...</td>\n",
       "      <td>Sample exclusion dimension</td>\n",
       "      <td>ML</td>\n",
       "    </tr>\n",
       "    <tr>\n",
       "      <th>17110513</th>\n",
       "      <td>In statistics, additive smoothing, also called...</td>\n",
       "      <td>Additive smoothing</td>\n",
       "      <td>ML</td>\n",
       "    </tr>\n",
       "  </tbody>\n",
       "</table>\n",
       "</div>"
      ],
      "text/plain": [
       "                                                       text  \\\n",
       "28168154  Principal stratification is a statistical tech...   \n",
       "31877832  This article is about the binary tree variant....   \n",
       "2139778   Ordination or gradient analysis, in multivaria...   \n",
       "3119343   In computational learning theory, sample exclu...   \n",
       "17110513  In statistics, additive smoothing, also called...   \n",
       "\n",
       "                               title label  \n",
       "28168154    Principal stratification    ML  \n",
       "31877832                   Ball tree    ML  \n",
       "2139778      Ordination (statistics)    ML  \n",
       "3119343   Sample exclusion dimension    ML  \n",
       "17110513          Additive smoothing    ML  "
      ]
     },
     "execution_count": 19,
     "metadata": {},
     "output_type": "execute_result"
    }
   ],
   "source": [
    "ml_df.head()"
   ]
  },
  {
   "cell_type": "code",
   "execution_count": 20,
   "metadata": {},
   "outputs": [],
   "source": [
    "bs_df = pd.DataFrame(BS_docs, index = [x['pageid'] for x in BS_docs]).drop(['_id', 'pageid'], axis=1)"
   ]
  },
  {
   "cell_type": "code",
   "execution_count": 21,
   "metadata": {},
   "outputs": [],
   "source": [
    "bs_df['label'] = 'BS'"
   ]
  },
  {
   "cell_type": "code",
   "execution_count": 22,
   "metadata": {},
   "outputs": [
    {
     "data": {
      "text/html": [
       "<div>\n",
       "<table border=\"1\" class=\"dataframe\">\n",
       "  <thead>\n",
       "    <tr style=\"text-align: right;\">\n",
       "      <th></th>\n",
       "      <th>text</th>\n",
       "      <th>title</th>\n",
       "      <th>label</th>\n",
       "    </tr>\n",
       "  </thead>\n",
       "  <tbody>\n",
       "    <tr>\n",
       "      <th>22847264</th>\n",
       "      <td>Application retirement, also called applicatio...</td>\n",
       "      <td>Application retirement</td>\n",
       "      <td>BS</td>\n",
       "    </tr>\n",
       "    <tr>\n",
       "      <th>317400</th>\n",
       "      <td>This article relies too much on references to ...</td>\n",
       "      <td>WebObjects</td>\n",
       "      <td>BS</td>\n",
       "    </tr>\n",
       "    <tr>\n",
       "      <th>6708405</th>\n",
       "      <td>This article does not cite any sources. Please...</td>\n",
       "      <td>Zoo Tycoon 2: Marine Mania</td>\n",
       "      <td>BS</td>\n",
       "    </tr>\n",
       "    <tr>\n",
       "      <th>22479089</th>\n",
       "      <td>HubSpot, Inc.TypePublicTraded&amp;#160;asNYSE:&amp;#16...</td>\n",
       "      <td>HubSpot</td>\n",
       "      <td>BS</td>\n",
       "    </tr>\n",
       "    <tr>\n",
       "      <th>2305988</th>\n",
       "      <td>This article needs additional citations for ve...</td>\n",
       "      <td>FitNesse</td>\n",
       "      <td>BS</td>\n",
       "    </tr>\n",
       "  </tbody>\n",
       "</table>\n",
       "</div>"
      ],
      "text/plain": [
       "                                                       text  \\\n",
       "22847264  Application retirement, also called applicatio...   \n",
       "317400    This article relies too much on references to ...   \n",
       "6708405   This article does not cite any sources. Please...   \n",
       "22479089  HubSpot, Inc.TypePublicTraded&#160;asNYSE:&#16...   \n",
       "2305988   This article needs additional citations for ve...   \n",
       "\n",
       "                               title label  \n",
       "22847264      Application retirement    BS  \n",
       "317400                    WebObjects    BS  \n",
       "6708405   Zoo Tycoon 2: Marine Mania    BS  \n",
       "22479089                     HubSpot    BS  \n",
       "2305988                     FitNesse    BS  "
      ]
     },
     "execution_count": 22,
     "metadata": {},
     "output_type": "execute_result"
    }
   ],
   "source": [
    "bs_df.head()"
   ]
  },
  {
   "cell_type": "code",
   "execution_count": 23,
   "metadata": {},
   "outputs": [],
   "source": [
    "all_df = pd.concat([ml_df, bs_df])"
   ]
  },
  {
   "cell_type": "code",
   "execution_count": 24,
   "metadata": {
    "scrolled": true
   },
   "outputs": [
    {
     "data": {
      "text/html": [
       "<div>\n",
       "<table border=\"1\" class=\"dataframe\">\n",
       "  <thead>\n",
       "    <tr style=\"text-align: right;\">\n",
       "      <th></th>\n",
       "      <th>text</th>\n",
       "      <th>title</th>\n",
       "      <th>label</th>\n",
       "    </tr>\n",
       "  </thead>\n",
       "  <tbody>\n",
       "    <tr>\n",
       "      <th>53021161</th>\n",
       "      <td>In computer science, SimHash is a technique fo...</td>\n",
       "      <td>SimHash</td>\n",
       "      <td>ML</td>\n",
       "    </tr>\n",
       "    <tr>\n",
       "      <th>21164918</th>\n",
       "      <td>This article is an orphan, as no other article...</td>\n",
       "      <td>Touch Typist Typing Tutor</td>\n",
       "      <td>BS</td>\n",
       "    </tr>\n",
       "    <tr>\n",
       "      <th>45086251</th>\n",
       "      <td>This article has multiple issues. Please help ...</td>\n",
       "      <td>Savane (software)</td>\n",
       "      <td>BS</td>\n",
       "    </tr>\n",
       "    <tr>\n",
       "      <th>41102584</th>\n",
       "      <td>Moka5TypePrivateIndustryEnterprise softwareFou...</td>\n",
       "      <td>Moka5</td>\n",
       "      <td>BS</td>\n",
       "    </tr>\n",
       "    <tr>\n",
       "      <th>45265646</th>\n",
       "      <td>This article has multiple issues. Please help ...</td>\n",
       "      <td>OpenHospital</td>\n",
       "      <td>BS</td>\n",
       "    </tr>\n",
       "  </tbody>\n",
       "</table>\n",
       "</div>"
      ],
      "text/plain": [
       "                                                       text  \\\n",
       "53021161  In computer science, SimHash is a technique fo...   \n",
       "21164918  This article is an orphan, as no other article...   \n",
       "45086251  This article has multiple issues. Please help ...   \n",
       "41102584  Moka5TypePrivateIndustryEnterprise softwareFou...   \n",
       "45265646  This article has multiple issues. Please help ...   \n",
       "\n",
       "                              title label  \n",
       "53021161                    SimHash    ML  \n",
       "21164918  Touch Typist Typing Tutor    BS  \n",
       "45086251          Savane (software)    BS  \n",
       "41102584                      Moka5    BS  \n",
       "45265646               OpenHospital    BS  "
      ]
     },
     "execution_count": 24,
     "metadata": {},
     "output_type": "execute_result"
    }
   ],
   "source": [
    "all_df.sample(5)"
   ]
  },
  {
   "cell_type": "code",
   "execution_count": 25,
   "metadata": {},
   "outputs": [],
   "source": [
    "from sklearn.feature_extraction.text import CountVectorizer, TfidfVectorizer, HashingVectorizer\n",
    "from sklearn.feature_extraction.text import ENGLISH_STOP_WORDS\n"
   ]
  },
  {
   "cell_type": "code",
   "execution_count": 26,
   "metadata": {},
   "outputs": [],
   "source": [
    "import re\n",
    "def cleaner(text):\n",
    "    text = re.sub('&#39;','',text).lower()\n",
    "    text = re.sub('<br />','',text)\n",
    "    text = re.sub('<.*>.*</.*>','', text)\n",
    "    text = re.sub('\\\\ufeff', '', text)\n",
    "    text = re.sub('[\\d]','',text)\n",
    "    text = re.sub('[^a-z ]','',text)\n",
    "    return text"
   ]
  },
  {
   "cell_type": "code",
   "execution_count": 27,
   "metadata": {},
   "outputs": [],
   "source": [
    "all_df['clean_text'] = all_df['text'].apply(cleaner)"
   ]
  },
  {
   "cell_type": "code",
   "execution_count": 28,
   "metadata": {},
   "outputs": [
    {
     "data": {
      "text/html": [
       "<div>\n",
       "<table border=\"1\" class=\"dataframe\">\n",
       "  <thead>\n",
       "    <tr style=\"text-align: right;\">\n",
       "      <th></th>\n",
       "      <th>text</th>\n",
       "      <th>title</th>\n",
       "      <th>label</th>\n",
       "      <th>clean_text</th>\n",
       "    </tr>\n",
       "  </thead>\n",
       "  <tbody>\n",
       "    <tr>\n",
       "      <th>28168154</th>\n",
       "      <td>Principal stratification is a statistical tech...</td>\n",
       "      <td>Principal stratification</td>\n",
       "      <td>ML</td>\n",
       "      <td>principal stratification is a statistical tech...</td>\n",
       "    </tr>\n",
       "    <tr>\n",
       "      <th>31877832</th>\n",
       "      <td>This article is about the binary tree variant....</td>\n",
       "      <td>Ball tree</td>\n",
       "      <td>ML</td>\n",
       "      <td>this article is about the binary tree variant ...</td>\n",
       "    </tr>\n",
       "    <tr>\n",
       "      <th>2139778</th>\n",
       "      <td>Ordination or gradient analysis, in multivaria...</td>\n",
       "      <td>Ordination (statistics)</td>\n",
       "      <td>ML</td>\n",
       "      <td>ordination or gradient analysis in multivariat...</td>\n",
       "    </tr>\n",
       "    <tr>\n",
       "      <th>3119343</th>\n",
       "      <td>In computational learning theory, sample exclu...</td>\n",
       "      <td>Sample exclusion dimension</td>\n",
       "      <td>ML</td>\n",
       "      <td>in computational learning theory sample exclus...</td>\n",
       "    </tr>\n",
       "    <tr>\n",
       "      <th>17110513</th>\n",
       "      <td>In statistics, additive smoothing, also called...</td>\n",
       "      <td>Additive smoothing</td>\n",
       "      <td>ML</td>\n",
       "      <td>in statistics additive smoothing also called l...</td>\n",
       "    </tr>\n",
       "  </tbody>\n",
       "</table>\n",
       "</div>"
      ],
      "text/plain": [
       "                                                       text  \\\n",
       "28168154  Principal stratification is a statistical tech...   \n",
       "31877832  This article is about the binary tree variant....   \n",
       "2139778   Ordination or gradient analysis, in multivaria...   \n",
       "3119343   In computational learning theory, sample exclu...   \n",
       "17110513  In statistics, additive smoothing, also called...   \n",
       "\n",
       "                               title label  \\\n",
       "28168154    Principal stratification    ML   \n",
       "31877832                   Ball tree    ML   \n",
       "2139778      Ordination (statistics)    ML   \n",
       "3119343   Sample exclusion dimension    ML   \n",
       "17110513          Additive smoothing    ML   \n",
       "\n",
       "                                                 clean_text  \n",
       "28168154  principal stratification is a statistical tech...  \n",
       "31877832  this article is about the binary tree variant ...  \n",
       "2139778   ordination or gradient analysis in multivariat...  \n",
       "3119343   in computational learning theory sample exclus...  \n",
       "17110513  in statistics additive smoothing also called l...  "
      ]
     },
     "execution_count": 28,
     "metadata": {},
     "output_type": "execute_result"
    }
   ],
   "source": [
    "all_df.head()"
   ]
  },
  {
   "cell_type": "code",
   "execution_count": 81,
   "metadata": {},
   "outputs": [
    {
     "data": {
      "text/plain": [
       "<4125x57212 sparse matrix of type '<class 'numpy.float64'>'\n",
       "\twith 1367246 stored elements in Compressed Sparse Row format>"
      ]
     },
     "execution_count": 81,
     "metadata": {},
     "output_type": "execute_result"
    }
   ],
   "source": [
    "vect = TfidfVectorizer(min_df=2, stop_words='english')\n",
    "vect.fit_transform(all_df['clean_text'])"
   ]
  },
  {
   "cell_type": "code",
   "execution_count": 82,
   "metadata": {},
   "outputs": [],
   "source": [
    "all_text = pd.DataFrame(X.toarray(), index = all_df.index, columns=vect.get_feature_names())"
   ]
  },
  {
   "cell_type": "code",
   "execution_count": 31,
   "metadata": {},
   "outputs": [
    {
     "data": {
      "text/html": [
       "<div>\n",
       "<table border=\"1\" class=\"dataframe\">\n",
       "  <thead>\n",
       "    <tr style=\"text-align: right;\">\n",
       "      <th></th>\n",
       "      <th>aa</th>\n",
       "      <th>aaa</th>\n",
       "      <th>aaai</th>\n",
       "      <th>aaas</th>\n",
       "      <th>aab</th>\n",
       "      <th>aac</th>\n",
       "      <th>aachen</th>\n",
       "      <th>aaf</th>\n",
       "      <th>aai</th>\n",
       "      <th>aal</th>\n",
       "      <th>...</th>\n",
       "      <th>zworykintransmissionmediacoaxial</th>\n",
       "      <th>zx</th>\n",
       "      <th>zxtimes</th>\n",
       "      <th>zxy</th>\n",
       "      <th>zybex</th>\n",
       "      <th>zynga</th>\n",
       "      <th>zynx</th>\n",
       "      <th>zytkow</th>\n",
       "      <th>zzap</th>\n",
       "      <th>zzldots</th>\n",
       "    </tr>\n",
       "  </thead>\n",
       "  <tbody>\n",
       "    <tr>\n",
       "      <th>28168154</th>\n",
       "      <td>0.0</td>\n",
       "      <td>0.0</td>\n",
       "      <td>0.0</td>\n",
       "      <td>0.0</td>\n",
       "      <td>0.0</td>\n",
       "      <td>0.0</td>\n",
       "      <td>0.0</td>\n",
       "      <td>0.0</td>\n",
       "      <td>0.0</td>\n",
       "      <td>0.0</td>\n",
       "      <td>...</td>\n",
       "      <td>0.0</td>\n",
       "      <td>0.0</td>\n",
       "      <td>0.0</td>\n",
       "      <td>0.0</td>\n",
       "      <td>0.0</td>\n",
       "      <td>0.0</td>\n",
       "      <td>0.0</td>\n",
       "      <td>0.0</td>\n",
       "      <td>0.0</td>\n",
       "      <td>0.0</td>\n",
       "    </tr>\n",
       "    <tr>\n",
       "      <th>31877832</th>\n",
       "      <td>0.0</td>\n",
       "      <td>0.0</td>\n",
       "      <td>0.0</td>\n",
       "      <td>0.0</td>\n",
       "      <td>0.0</td>\n",
       "      <td>0.0</td>\n",
       "      <td>0.0</td>\n",
       "      <td>0.0</td>\n",
       "      <td>0.0</td>\n",
       "      <td>0.0</td>\n",
       "      <td>...</td>\n",
       "      <td>0.0</td>\n",
       "      <td>0.0</td>\n",
       "      <td>0.0</td>\n",
       "      <td>0.0</td>\n",
       "      <td>0.0</td>\n",
       "      <td>0.0</td>\n",
       "      <td>0.0</td>\n",
       "      <td>0.0</td>\n",
       "      <td>0.0</td>\n",
       "      <td>0.0</td>\n",
       "    </tr>\n",
       "    <tr>\n",
       "      <th>2139778</th>\n",
       "      <td>0.0</td>\n",
       "      <td>0.0</td>\n",
       "      <td>0.0</td>\n",
       "      <td>0.0</td>\n",
       "      <td>0.0</td>\n",
       "      <td>0.0</td>\n",
       "      <td>0.0</td>\n",
       "      <td>0.0</td>\n",
       "      <td>0.0</td>\n",
       "      <td>0.0</td>\n",
       "      <td>...</td>\n",
       "      <td>0.0</td>\n",
       "      <td>0.0</td>\n",
       "      <td>0.0</td>\n",
       "      <td>0.0</td>\n",
       "      <td>0.0</td>\n",
       "      <td>0.0</td>\n",
       "      <td>0.0</td>\n",
       "      <td>0.0</td>\n",
       "      <td>0.0</td>\n",
       "      <td>0.0</td>\n",
       "    </tr>\n",
       "    <tr>\n",
       "      <th>3119343</th>\n",
       "      <td>0.0</td>\n",
       "      <td>0.0</td>\n",
       "      <td>0.0</td>\n",
       "      <td>0.0</td>\n",
       "      <td>0.0</td>\n",
       "      <td>0.0</td>\n",
       "      <td>0.0</td>\n",
       "      <td>0.0</td>\n",
       "      <td>0.0</td>\n",
       "      <td>0.0</td>\n",
       "      <td>...</td>\n",
       "      <td>0.0</td>\n",
       "      <td>0.0</td>\n",
       "      <td>0.0</td>\n",
       "      <td>0.0</td>\n",
       "      <td>0.0</td>\n",
       "      <td>0.0</td>\n",
       "      <td>0.0</td>\n",
       "      <td>0.0</td>\n",
       "      <td>0.0</td>\n",
       "      <td>0.0</td>\n",
       "    </tr>\n",
       "    <tr>\n",
       "      <th>17110513</th>\n",
       "      <td>0.0</td>\n",
       "      <td>0.0</td>\n",
       "      <td>0.0</td>\n",
       "      <td>0.0</td>\n",
       "      <td>0.0</td>\n",
       "      <td>0.0</td>\n",
       "      <td>0.0</td>\n",
       "      <td>0.0</td>\n",
       "      <td>0.0</td>\n",
       "      <td>0.0</td>\n",
       "      <td>...</td>\n",
       "      <td>0.0</td>\n",
       "      <td>0.0</td>\n",
       "      <td>0.0</td>\n",
       "      <td>0.0</td>\n",
       "      <td>0.0</td>\n",
       "      <td>0.0</td>\n",
       "      <td>0.0</td>\n",
       "      <td>0.0</td>\n",
       "      <td>0.0</td>\n",
       "      <td>0.0</td>\n",
       "    </tr>\n",
       "  </tbody>\n",
       "</table>\n",
       "<p>5 rows × 57212 columns</p>\n",
       "</div>"
      ],
      "text/plain": [
       "           aa  aaa  aaai  aaas  aab  aac  aachen  aaf  aai  aal   ...     \\\n",
       "28168154  0.0  0.0   0.0   0.0  0.0  0.0     0.0  0.0  0.0  0.0   ...      \n",
       "31877832  0.0  0.0   0.0   0.0  0.0  0.0     0.0  0.0  0.0  0.0   ...      \n",
       "2139778   0.0  0.0   0.0   0.0  0.0  0.0     0.0  0.0  0.0  0.0   ...      \n",
       "3119343   0.0  0.0   0.0   0.0  0.0  0.0     0.0  0.0  0.0  0.0   ...      \n",
       "17110513  0.0  0.0   0.0   0.0  0.0  0.0     0.0  0.0  0.0  0.0   ...      \n",
       "\n",
       "          zworykintransmissionmediacoaxial   zx  zxtimes  zxy  zybex  zynga  \\\n",
       "28168154                               0.0  0.0      0.0  0.0    0.0    0.0   \n",
       "31877832                               0.0  0.0      0.0  0.0    0.0    0.0   \n",
       "2139778                                0.0  0.0      0.0  0.0    0.0    0.0   \n",
       "3119343                                0.0  0.0      0.0  0.0    0.0    0.0   \n",
       "17110513                               0.0  0.0      0.0  0.0    0.0    0.0   \n",
       "\n",
       "          zynx  zytkow  zzap  zzldots  \n",
       "28168154   0.0     0.0   0.0      0.0  \n",
       "31877832   0.0     0.0   0.0      0.0  \n",
       "2139778    0.0     0.0   0.0      0.0  \n",
       "3119343    0.0     0.0   0.0      0.0  \n",
       "17110513   0.0     0.0   0.0      0.0  \n",
       "\n",
       "[5 rows x 57212 columns]"
      ]
     },
     "execution_count": 31,
     "metadata": {},
     "output_type": "execute_result"
    }
   ],
   "source": [
    "vector_text_df = all_text\n",
    "vector_text_df.head()"
   ]
  },
  {
   "cell_type": "code",
   "execution_count": 32,
   "metadata": {},
   "outputs": [],
   "source": [
    "from sklearn.decomposition import TruncatedSVD"
   ]
  },
  {
   "cell_type": "code",
   "execution_count": 76,
   "metadata": {},
   "outputs": [],
   "source": [
    "SVD = TruncatedSVD(n_components=500)\n",
    "component_names = [\"component_\"+str(i+1) for i in range(500)]"
   ]
  },
  {
   "cell_type": "code",
   "execution_count": 77,
   "metadata": {},
   "outputs": [],
   "source": [
    "svd_matrix = SVD.fit_transform(vector_text_df)"
   ]
  },
  {
   "cell_type": "code",
   "execution_count": 79,
   "metadata": {},
   "outputs": [
    {
     "data": {
      "text/plain": [
       "TruncatedSVD(algorithm='randomized', n_components=500, n_iter=5,\n",
       "       random_state=None, tol=0.0)"
      ]
     },
     "execution_count": 79,
     "metadata": {},
     "output_type": "execute_result"
    }
   ],
   "source": [
    "SVD"
   ]
  },
  {
   "cell_type": "code",
   "execution_count": 90,
   "metadata": {},
   "outputs": [
    {
     "data": {
      "text/html": [
       "<div>\n",
       "<table border=\"1\" class=\"dataframe\">\n",
       "  <thead>\n",
       "    <tr style=\"text-align: right;\">\n",
       "      <th></th>\n",
       "      <th>component_1</th>\n",
       "      <th>component_2</th>\n",
       "      <th>component_3</th>\n",
       "      <th>component_4</th>\n",
       "      <th>component_5</th>\n",
       "      <th>component_6</th>\n",
       "      <th>component_7</th>\n",
       "      <th>component_8</th>\n",
       "      <th>component_9</th>\n",
       "      <th>component_10</th>\n",
       "      <th>...</th>\n",
       "      <th>component_491</th>\n",
       "      <th>component_492</th>\n",
       "      <th>component_493</th>\n",
       "      <th>component_494</th>\n",
       "      <th>component_495</th>\n",
       "      <th>component_496</th>\n",
       "      <th>component_497</th>\n",
       "      <th>component_498</th>\n",
       "      <th>component_499</th>\n",
       "      <th>component_500</th>\n",
       "    </tr>\n",
       "  </thead>\n",
       "  <tbody>\n",
       "    <tr>\n",
       "      <th>28168154</th>\n",
       "      <td>0.098349</td>\n",
       "      <td>0.016547</td>\n",
       "      <td>0.001384</td>\n",
       "      <td>0.043803</td>\n",
       "      <td>0.047447</td>\n",
       "      <td>0.009481</td>\n",
       "      <td>0.050307</td>\n",
       "      <td>0.012112</td>\n",
       "      <td>-0.022939</td>\n",
       "      <td>0.028155</td>\n",
       "      <td>...</td>\n",
       "      <td>-0.011418</td>\n",
       "      <td>0.035704</td>\n",
       "      <td>0.020000</td>\n",
       "      <td>-0.010939</td>\n",
       "      <td>-0.019325</td>\n",
       "      <td>0.025780</td>\n",
       "      <td>0.005823</td>\n",
       "      <td>0.010610</td>\n",
       "      <td>-0.026668</td>\n",
       "      <td>-0.017207</td>\n",
       "    </tr>\n",
       "    <tr>\n",
       "      <th>31877832</th>\n",
       "      <td>0.148508</td>\n",
       "      <td>0.152856</td>\n",
       "      <td>-0.035552</td>\n",
       "      <td>0.043294</td>\n",
       "      <td>0.077943</td>\n",
       "      <td>0.014639</td>\n",
       "      <td>-0.020650</td>\n",
       "      <td>0.023356</td>\n",
       "      <td>-0.063215</td>\n",
       "      <td>0.060528</td>\n",
       "      <td>...</td>\n",
       "      <td>0.013252</td>\n",
       "      <td>-0.003817</td>\n",
       "      <td>-0.022060</td>\n",
       "      <td>-0.006260</td>\n",
       "      <td>0.006105</td>\n",
       "      <td>-0.010418</td>\n",
       "      <td>-0.021794</td>\n",
       "      <td>0.019479</td>\n",
       "      <td>-0.000640</td>\n",
       "      <td>0.023640</td>\n",
       "    </tr>\n",
       "    <tr>\n",
       "      <th>2139778</th>\n",
       "      <td>0.127671</td>\n",
       "      <td>0.031231</td>\n",
       "      <td>-0.029331</td>\n",
       "      <td>0.034437</td>\n",
       "      <td>0.075613</td>\n",
       "      <td>-0.001592</td>\n",
       "      <td>0.008520</td>\n",
       "      <td>0.008145</td>\n",
       "      <td>-0.047915</td>\n",
       "      <td>0.037267</td>\n",
       "      <td>...</td>\n",
       "      <td>0.005993</td>\n",
       "      <td>0.036297</td>\n",
       "      <td>0.017374</td>\n",
       "      <td>-0.017606</td>\n",
       "      <td>-0.041130</td>\n",
       "      <td>-0.021373</td>\n",
       "      <td>-0.008448</td>\n",
       "      <td>-0.039040</td>\n",
       "      <td>0.035061</td>\n",
       "      <td>0.003333</td>\n",
       "    </tr>\n",
       "    <tr>\n",
       "      <th>3119343</th>\n",
       "      <td>0.181125</td>\n",
       "      <td>0.090990</td>\n",
       "      <td>0.042595</td>\n",
       "      <td>0.104461</td>\n",
       "      <td>0.097508</td>\n",
       "      <td>-0.039418</td>\n",
       "      <td>0.070308</td>\n",
       "      <td>-0.018137</td>\n",
       "      <td>0.019616</td>\n",
       "      <td>-0.011421</td>\n",
       "      <td>...</td>\n",
       "      <td>-0.010036</td>\n",
       "      <td>-0.006405</td>\n",
       "      <td>-0.006184</td>\n",
       "      <td>0.007160</td>\n",
       "      <td>-0.017233</td>\n",
       "      <td>0.004717</td>\n",
       "      <td>0.010312</td>\n",
       "      <td>0.017181</td>\n",
       "      <td>-0.019619</td>\n",
       "      <td>-0.001486</td>\n",
       "    </tr>\n",
       "    <tr>\n",
       "      <th>17110513</th>\n",
       "      <td>0.136600</td>\n",
       "      <td>0.147564</td>\n",
       "      <td>-0.038037</td>\n",
       "      <td>0.034879</td>\n",
       "      <td>0.077761</td>\n",
       "      <td>0.014290</td>\n",
       "      <td>-0.019275</td>\n",
       "      <td>0.018444</td>\n",
       "      <td>-0.036488</td>\n",
       "      <td>0.051890</td>\n",
       "      <td>...</td>\n",
       "      <td>-0.010516</td>\n",
       "      <td>-0.019475</td>\n",
       "      <td>-0.007933</td>\n",
       "      <td>-0.012813</td>\n",
       "      <td>-0.002057</td>\n",
       "      <td>0.023827</td>\n",
       "      <td>-0.025305</td>\n",
       "      <td>-0.012667</td>\n",
       "      <td>0.015898</td>\n",
       "      <td>0.005096</td>\n",
       "    </tr>\n",
       "  </tbody>\n",
       "</table>\n",
       "<p>5 rows × 500 columns</p>\n",
       "</div>"
      ],
      "text/plain": [
       "          component_1  component_2  component_3  component_4  component_5  \\\n",
       "28168154     0.098349     0.016547     0.001384     0.043803     0.047447   \n",
       "31877832     0.148508     0.152856    -0.035552     0.043294     0.077943   \n",
       "2139778      0.127671     0.031231    -0.029331     0.034437     0.075613   \n",
       "3119343      0.181125     0.090990     0.042595     0.104461     0.097508   \n",
       "17110513     0.136600     0.147564    -0.038037     0.034879     0.077761   \n",
       "\n",
       "          component_6  component_7  component_8  component_9  component_10  \\\n",
       "28168154     0.009481     0.050307     0.012112    -0.022939      0.028155   \n",
       "31877832     0.014639    -0.020650     0.023356    -0.063215      0.060528   \n",
       "2139778     -0.001592     0.008520     0.008145    -0.047915      0.037267   \n",
       "3119343     -0.039418     0.070308    -0.018137     0.019616     -0.011421   \n",
       "17110513     0.014290    -0.019275     0.018444    -0.036488      0.051890   \n",
       "\n",
       "              ...        component_491  component_492  component_493  \\\n",
       "28168154      ...            -0.011418       0.035704       0.020000   \n",
       "31877832      ...             0.013252      -0.003817      -0.022060   \n",
       "2139778       ...             0.005993       0.036297       0.017374   \n",
       "3119343       ...            -0.010036      -0.006405      -0.006184   \n",
       "17110513      ...            -0.010516      -0.019475      -0.007933   \n",
       "\n",
       "          component_494  component_495  component_496  component_497  \\\n",
       "28168154      -0.010939      -0.019325       0.025780       0.005823   \n",
       "31877832      -0.006260       0.006105      -0.010418      -0.021794   \n",
       "2139778       -0.017606      -0.041130      -0.021373      -0.008448   \n",
       "3119343        0.007160      -0.017233       0.004717       0.010312   \n",
       "17110513      -0.012813      -0.002057       0.023827      -0.025305   \n",
       "\n",
       "          component_498  component_499  component_500  \n",
       "28168154       0.010610      -0.026668      -0.017207  \n",
       "31877832       0.019479      -0.000640       0.023640  \n",
       "2139778       -0.039040       0.035061       0.003333  \n",
       "3119343        0.017181      -0.019619      -0.001486  \n",
       "17110513      -0.012667       0.015898       0.005096  \n",
       "\n",
       "[5 rows x 500 columns]"
      ]
     },
     "execution_count": 90,
     "metadata": {},
     "output_type": "execute_result"
    }
   ],
   "source": [
    "LSA = pd.DataFrame(svd_matrix, index = vector_text_df.index, columns = component_names)\n",
    "\n",
    "LSA_df = LSA\n",
    "\n",
    "LSA_df.head()"
   ]
  },
  {
   "cell_type": "code",
   "execution_count": 69,
   "metadata": {},
   "outputs": [],
   "source": [
    "test_query = \"vectors and matrices\""
   ]
  },
  {
   "cell_type": "code",
   "execution_count": 83,
   "metadata": {},
   "outputs": [],
   "source": [
    "test_query_tfdif = vect.transform([test_query])"
   ]
  },
  {
   "cell_type": "code",
   "execution_count": 84,
   "metadata": {},
   "outputs": [
    {
     "data": {
      "text/plain": [
       "(1, 57212)"
      ]
     },
     "execution_count": 84,
     "metadata": {},
     "output_type": "execute_result"
    }
   ],
   "source": [
    "test_query_tfdif.shape"
   ]
  },
  {
   "cell_type": "code",
   "execution_count": 86,
   "metadata": {},
   "outputs": [],
   "source": [
    "query500 = SVD.transform(test_query_tfdif.todense().reshape(1,-1))"
   ]
  },
  {
   "cell_type": "code",
   "execution_count": 91,
   "metadata": {},
   "outputs": [],
   "source": [
    "from sklearn.metrics.pairwise import cosine_similarity"
   ]
  },
  {
   "cell_type": "code",
   "execution_count": 92,
   "metadata": {},
   "outputs": [],
   "source": [
    "LSA_df['cosine_sim'] = cosine_similarity(LSA_df, query500)"
   ]
  },
  {
   "cell_type": "code",
   "execution_count": 1,
   "metadata": {},
   "outputs": [
    {
     "ename": "NameError",
     "evalue": "name 'LSA_df' is not defined",
     "output_type": "error",
     "traceback": [
      "\u001b[0;31m---------------------------------------------------------------------------\u001b[0m",
      "\u001b[0;31mNameError\u001b[0m                                 Traceback (most recent call last)",
      "\u001b[0;32m<ipython-input-1-db9b88a62db3>\u001b[0m in \u001b[0;36m<module>\u001b[0;34m()\u001b[0m\n\u001b[0;32m----> 1\u001b[0;31m \u001b[0mLSA_df\u001b[0m\u001b[0;34m[\u001b[0m\u001b[0;34m[\u001b[0m\u001b[0;34m'cosine_sim'\u001b[0m\u001b[0;34m]\u001b[0m\u001b[0;34m]\u001b[0m\u001b[0;34m.\u001b[0m\u001b[0msort_values\u001b[0m\u001b[0;34m(\u001b[0m\u001b[0;34m'cosine_sim'\u001b[0m\u001b[0;34m,\u001b[0m \u001b[0mascending\u001b[0m\u001b[0;34m=\u001b[0m\u001b[0;32mFalse\u001b[0m\u001b[0;34m)\u001b[0m\u001b[0;34m.\u001b[0m\u001b[0mhead\u001b[0m\u001b[0;34m(\u001b[0m\u001b[0;36m10\u001b[0m\u001b[0;34m)\u001b[0m\u001b[0;34m\u001b[0m\u001b[0m\n\u001b[0m",
      "\u001b[0;31mNameError\u001b[0m: name 'LSA_df' is not defined"
     ]
    }
   ],
   "source": [
    "LSA_df[['cosine_sim']].sort_values('cosine_sim', ascending=False).head(10)"
   ]
  },
  {
   "cell_type": "code",
   "execution_count": null,
   "metadata": {},
   "outputs": [],
   "source": []
  }
 ],
 "metadata": {
  "kernelspec": {
   "display_name": "Python 3",
   "language": "python",
   "name": "python3"
  },
  "language_info": {
   "codemirror_mode": {
    "name": "ipython",
    "version": 3
   },
   "file_extension": ".py",
   "mimetype": "text/x-python",
   "name": "python",
   "nbconvert_exporter": "python",
   "pygments_lexer": "ipython3",
   "version": "3.6.2"
  }
 },
 "nbformat": 4,
 "nbformat_minor": 2
}
