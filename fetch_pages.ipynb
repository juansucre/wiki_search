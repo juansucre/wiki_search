{
 "cells": [
  {
   "cell_type": "code",
   "execution_count": 53,
   "metadata": {},
   "outputs": [],
   "source": [
    "from sklearn.externals import joblib"
   ]
  },
  {
   "cell_type": "code",
   "execution_count": 54,
   "metadata": {},
   "outputs": [],
   "source": [
    "import requests"
   ]
  },
  {
   "cell_type": "code",
   "execution_count": 2,
   "metadata": {},
   "outputs": [],
   "source": [
    "def pages_fetch(category, tree_depth=0):\n",
    "    \n",
    "    output = []\n",
    "    pages_title_list = []\n",
    "    pages_id_list    = []\n",
    "    \n",
    "    params = {'list'   : 'categorymembers',\n",
    "              'cmtitle':  category,\n",
    "              'action' : 'query',\n",
    "              'format' : 'json',\n",
    "              'cmlimit': 'max',\n",
    "              }\n",
    "\n",
    "    response = requests.get(\"https://en.wikipedia.org/w/api.php?\", params)\n",
    "\n",
    "    data = response.json()\n",
    "    data_dict = data['query']['categorymembers']\n",
    "\n",
    "    pages   = list(filter(lambda x: x['ns'] == 0, data_dict))\n",
    "    subcats = list(filter(lambda x: x['ns'] == 14, data_dict))\n",
    "\n",
    "    for i in pages:\n",
    "        pages_title_list.append(i['title'])\n",
    "        pages_id_list.append(i['pageid'])\n",
    "    \n",
    "    zipped = list(zip(pages_title_list, pages_id_list))\n",
    "    output.extend(zipped)\n",
    "        \n",
    "    if (len(subcats) > 0) and (tree_depth > 0):\n",
    "        tree_depth -= 1\n",
    "        for i in subcats:\n",
    "            new_category = i['title']\n",
    "            output.extend(pages_fetch(new_category, tree_depth))\n",
    "            \n",
    "        return output\n",
    "    \n",
    "    else:\n",
    "        return output"
   ]
  },
  {
   "cell_type": "code",
   "execution_count": 3,
   "metadata": {},
   "outputs": [],
   "source": [
    "result = pages_fetch('Category:Machine_learning', tree_depth=3)"
   ]
  },
  {
   "cell_type": "code",
   "execution_count": 4,
   "metadata": {},
   "outputs": [],
   "source": [
    "results_ml = result"
   ]
  },
  {
   "cell_type": "code",
   "execution_count": 5,
   "metadata": {},
   "outputs": [
    {
     "data": {
      "text/plain": [
       "1624"
      ]
     },
     "execution_count": 5,
     "metadata": {},
     "output_type": "execute_result"
    }
   ],
   "source": [
    "len(results_ml)"
   ]
  },
  {
   "cell_type": "code",
   "execution_count": 6,
   "metadata": {},
   "outputs": [],
   "source": [
    "results_bs = pages_fetch('Category:Business_software', tree_depth=2)"
   ]
  },
  {
   "cell_type": "code",
   "execution_count": 7,
   "metadata": {},
   "outputs": [
    {
     "data": {
      "text/plain": [
       "4072"
      ]
     },
     "execution_count": 7,
     "metadata": {},
     "output_type": "execute_result"
    }
   ],
   "source": [
    "len(results_bs)"
   ]
  },
  {
   "cell_type": "code",
   "execution_count": 1,
   "metadata": {},
   "outputs": [],
   "source": [
    "def dedupe_list(page_list):\n",
    "    '''\n",
    "    Eliminates any repeated values and returns a list of unique values.\n",
    "    '''\n",
    "    return list(set(page_list))"
   ]
  },
  {
   "cell_type": "code",
   "execution_count": 10,
   "metadata": {},
   "outputs": [],
   "source": [
    "ml_pages = dedupe_list(results_ml)\n",
    "\n",
    "bs_pages = dedupe_list(results_bs)"
   ]
  },
  {
   "cell_type": "code",
   "execution_count": 55,
   "metadata": {},
   "outputs": [
    {
     "data": {
      "text/plain": [
       "1108"
      ]
     },
     "execution_count": 55,
     "metadata": {},
     "output_type": "execute_result"
    }
   ],
   "source": [
    "len(ml_pages)"
   ]
  },
  {
   "cell_type": "code",
   "execution_count": 56,
   "metadata": {},
   "outputs": [
    {
     "data": {
      "text/plain": [
       "3017"
      ]
     },
     "execution_count": 56,
     "metadata": {},
     "output_type": "execute_result"
    }
   ],
   "source": [
    "len(bs_pages)"
   ]
  },
  {
   "cell_type": "code",
   "execution_count": 50,
   "metadata": {},
   "outputs": [],
   "source": [
    "def get_pages_info(pages_list):\n",
    "    \n",
    "    pages_list_of_dicts = []\n",
    "    \n",
    "    for name, pageid in pages_list:\n",
    "        \n",
    "        page_dict = {}\n",
    "\n",
    "        params = {'action' : 'parse',\n",
    "                  'format' : 'json',\n",
    "                  'page'   :  name,\n",
    "                  'prop'   : 'text'\n",
    "                  }\n",
    "\n",
    "        response = requests.get(\"https://en.wikipedia.org/w/api.php?\", params)\n",
    "        \n",
    "        data = response.json()\n",
    "\n",
    "        raw_hmtl = data['parse']['text']['*']\n",
    "\n",
    "        clean_text = cleanhtml(raw_hmtl).replace('\\n', '')\n",
    "        \n",
    "        page_dict['text'] = clean_text\n",
    "        page_dict['title'] = name\n",
    "        page_dict['pageid'] = pageid\n",
    "        \n",
    "        pages_list_of_dicts.append(page_dict)\n",
    "                \n",
    "    return pages_list_of_dicts"
   ]
  },
  {
   "cell_type": "code",
   "execution_count": null,
   "metadata": {},
   "outputs": [],
   "source": [
    "ml_pages_info = get_pages_info(ml_pages)"
   ]
  },
  {
   "cell_type": "code",
   "execution_count": 48,
   "metadata": {},
   "outputs": [
    {
     "data": {
      "text/plain": [
       "['ml_pages_info.pkl']"
      ]
     },
     "execution_count": 48,
     "metadata": {},
     "output_type": "execute_result"
    }
   ],
   "source": [
    "joblib.dump(ml_pages_info, 'ml_pages_info.pkl')"
   ]
  },
  {
   "cell_type": "code",
   "execution_count": null,
   "metadata": {},
   "outputs": [],
   "source": [
    "bs_pages_info = get_pages_info(bs_pages)"
   ]
  },
  {
   "cell_type": "code",
   "execution_count": 52,
   "metadata": {},
   "outputs": [
    {
     "data": {
      "text/plain": [
       "['bs_pages_info.pkl']"
      ]
     },
     "execution_count": 52,
     "metadata": {},
     "output_type": "execute_result"
    }
   ],
   "source": [
    "joblib.dump(bs_pages_info, 'bs_pages_info.pkl')"
   ]
  },
  {
   "cell_type": "code",
   "execution_count": null,
   "metadata": {},
   "outputs": [],
   "source": []
  }
 ],
 "metadata": {
  "kernelspec": {
   "display_name": "Python 3",
   "language": "python",
   "name": "python3"
  },
  "language_info": {
   "codemirror_mode": {
    "name": "ipython",
    "version": 3
   },
   "file_extension": ".py",
   "mimetype": "text/x-python",
   "name": "python",
   "nbconvert_exporter": "python",
   "pygments_lexer": "ipython3",
   "version": "3.6.2"
  }
 },
 "nbformat": 4,
 "nbformat_minor": 2
}
